{
  "cells": [
    {
      "cell_type": "markdown",
      "metadata": {
        "id": "view-in-github",
        "colab_type": "text"
      },
      "source": [
        "<a href=\"https://colab.research.google.com/github/JWoinski/Bezier-2d/blob/main/RNN_MNIST.ipynb\" target=\"_parent\"><img src=\"https://colab.research.google.com/assets/colab-badge.svg\" alt=\"Open In Colab\"/></a>"
      ]
    },
    {
      "cell_type": "code",
      "execution_count": null,
      "metadata": {
        "id": "iqgExeqdvQP7"
      },
      "outputs": [],
      "source": [
        "from keras.models import Sequential\n",
        "from keras.layers import LSTM, Dense\n",
        "from keras.datasets import mnist\n",
        "from keras.utils import np_utils\n",
        "from keras import initializers\n",
        "\n",
        "def init_weights(shape, name=None):\n",
        "    return initializations.normal(shape, scale=0.01, name=name)"
      ]
    },
    {
      "cell_type": "code",
      "execution_count": null,
      "metadata": {
        "id": "muZIRMfbytet"
      },
      "outputs": [],
      "source": [
        "# Hyper parameters\n",
        "batch_size = 128\n",
        "nb_epoch = 50\n",
        "\n",
        "# Parameters for MNIST dataset\n",
        "img_rows, img_cols = 28, 28\n",
        "nb_classes = 10\n",
        "\n",
        "# Parameters for LSTM network\n",
        "nb_lstm_outputs = 30\n",
        "nb_time_steps = img_rows\n",
        "dim_input_vector = img_cols"
      ]
    },
    {
      "cell_type": "code",
      "execution_count": null,
      "metadata": {
        "colab": {
          "base_uri": "https://localhost:8080/"
        },
        "id": "gfbWuQwu0EZn",
        "outputId": "3ff9a1ea-f059-41f3-e694-6077d8e5f0eb"
      },
      "outputs": [
        {
          "name": "stdout",
          "output_type": "stream",
          "text": [
            "Downloading data from https://storage.googleapis.com/tensorflow/tf-keras-datasets/mnist.npz\n",
            "11493376/11490434 [==============================] - 0s 0us/step\n",
            "11501568/11490434 [==============================] - 0s 0us/step\n",
            "X_train original shape: (60000, 28, 28)\n",
            "X_train shape: (60000, 28, 28)\n",
            "60000 train samples\n",
            "10000 test samples\n"
          ]
        }
      ],
      "source": [
        "(X_train, y_train), (X_test, y_test) = mnist.load_data()\n",
        "print('X_train original shape:', X_train.shape)\n",
        "input_shape = (nb_time_steps, dim_input_vector)\n",
        "\n",
        "X_train = X_train.astype('float32') / 255.\n",
        "X_test = X_test.astype('float32') / 255.\n",
        "Y_train = np_utils.to_categorical(y_train, nb_classes)\n",
        "Y_test = np_utils.to_categorical(y_test, nb_classes)\n",
        "\n",
        "print('X_train shape:', X_train.shape)\n",
        "print(X_train.shape[0], 'train samples')\n",
        "print(X_test.shape[0], 'test samples')"
      ]
    },
    {
      "cell_type": "code",
      "execution_count": null,
      "metadata": {
        "colab": {
          "base_uri": "https://localhost:8080/"
        },
        "id": "y5mY0fO51Txw",
        "outputId": "a774f8e0-c421-4413-a212-f4dfb2830b01"
      },
      "outputs": [
        {
          "name": "stdout",
          "output_type": "stream",
          "text": [
            "Model: \"sequential_14\"\n",
            "_________________________________________________________________\n",
            " Layer (type)                Output Shape              Param #   \n",
            "=================================================================\n",
            " lstm_13 (LSTM)              (None, 30)                7080      \n",
            "                                                                 \n",
            " dense_6 (Dense)             (None, 10)                310       \n",
            "                                                                 \n",
            "=================================================================\n",
            "Total params: 7,390\n",
            "Trainable params: 7,390\n",
            "Non-trainable params: 0\n",
            "_________________________________________________________________\n"
          ]
        }
      ],
      "source": [
        "model = Sequential()\n",
        "model.add(LSTM(nb_lstm_outputs, input_shape=input_shape))\n",
        "model.add(Dense(nb_classes, activation='softmax'))\n",
        "model.compile(optimizer='rmsprop', loss='categorical_crossentropy', metrics=['accuracy'])\n",
        "model.summary()"
      ]
    },
    {
      "cell_type": "code",
      "execution_count": null,
      "metadata": {
        "colab": {
          "background_save": true,
          "base_uri": "https://localhost:8080/"
        },
        "id": "1IwB1IkB4RH5",
        "outputId": "878977fa-dfb3-4b0e-dded-bf7da83709b1"
      },
      "outputs": [
        {
          "name": "stdout",
          "output_type": "stream",
          "text": [
            "Epoch 1/50\n",
            "469/469 [==============================] - 12s 19ms/step - loss: 1.1139 - accuracy: 0.6402\n",
            "Epoch 2/50\n",
            "469/469 [==============================] - 9s 19ms/step - loss: 0.4513 - accuracy: 0.8636\n",
            "Epoch 3/50\n",
            "469/469 [==============================] - 9s 19ms/step - loss: 0.2921 - accuracy: 0.9130\n",
            "Epoch 4/50\n",
            "469/469 [==============================] - 9s 19ms/step - loss: 0.2225 - accuracy: 0.9341\n",
            "Epoch 5/50\n",
            "469/469 [==============================] - 9s 19ms/step - loss: 0.1769 - accuracy: 0.9482\n",
            "Epoch 6/50\n",
            "469/469 [==============================] - 9s 19ms/step - loss: 0.1503 - accuracy: 0.9551\n",
            "Epoch 7/50\n",
            "469/469 [==============================] - 10s 21ms/step - loss: 0.1319 - accuracy: 0.9607\n",
            "Epoch 8/50\n",
            "469/469 [==============================] - 9s 20ms/step - loss: 0.1184 - accuracy: 0.9647\n",
            "Epoch 9/50\n",
            "469/469 [==============================] - 9s 19ms/step - loss: 0.1086 - accuracy: 0.9675\n",
            "Epoch 10/50\n",
            "469/469 [==============================] - 9s 19ms/step - loss: 0.0995 - accuracy: 0.9700\n",
            "Epoch 11/50\n",
            "469/469 [==============================] - 9s 19ms/step - loss: 0.0916 - accuracy: 0.9726\n",
            "Epoch 12/50\n",
            "469/469 [==============================] - 9s 19ms/step - loss: 0.0855 - accuracy: 0.9743\n",
            "Epoch 13/50\n",
            "469/469 [==============================] - 9s 19ms/step - loss: 0.0791 - accuracy: 0.9760\n",
            "Epoch 14/50\n",
            "469/469 [==============================] - 9s 19ms/step - loss: 0.0753 - accuracy: 0.9771\n",
            "Epoch 15/50\n",
            "469/469 [==============================] - 9s 19ms/step - loss: 0.0706 - accuracy: 0.9790\n",
            "Epoch 16/50\n",
            "469/469 [==============================] - 9s 19ms/step - loss: 0.0664 - accuracy: 0.9800\n",
            "Epoch 17/50\n",
            "469/469 [==============================] - 9s 19ms/step - loss: 0.0627 - accuracy: 0.9811\n",
            "Epoch 18/50\n",
            "469/469 [==============================] - 9s 19ms/step - loss: 0.0597 - accuracy: 0.9818\n",
            "Epoch 19/50\n",
            "469/469 [==============================] - 10s 21ms/step - loss: 0.0574 - accuracy: 0.9822\n",
            "Epoch 20/50\n",
            "469/469 [==============================] - 9s 19ms/step - loss: 0.0548 - accuracy: 0.9832\n",
            "Epoch 21/50\n",
            "469/469 [==============================] - 9s 19ms/step - loss: 0.0526 - accuracy: 0.9840\n",
            "Epoch 22/50\n",
            "469/469 [==============================] - 9s 19ms/step - loss: 0.0500 - accuracy: 0.9848\n",
            "Epoch 23/50\n",
            "469/469 [==============================] - 9s 19ms/step - loss: 0.0476 - accuracy: 0.9854\n",
            "Epoch 24/50\n",
            "469/469 [==============================] - 9s 19ms/step - loss: 0.0460 - accuracy: 0.9859\n",
            "Epoch 25/50\n",
            "469/469 [==============================] - 9s 19ms/step - loss: 0.0448 - accuracy: 0.9864\n",
            "Epoch 26/50\n",
            "469/469 [==============================] - 9s 19ms/step - loss: 0.0421 - accuracy: 0.9871\n",
            "Epoch 27/50\n",
            "469/469 [==============================] - 9s 19ms/step - loss: 0.0417 - accuracy: 0.9870\n",
            "Epoch 28/50\n",
            "469/469 [==============================] - 9s 19ms/step - loss: 0.0401 - accuracy: 0.9878\n",
            "Epoch 29/50\n",
            "469/469 [==============================] - 9s 19ms/step - loss: 0.0391 - accuracy: 0.9878\n",
            "Epoch 30/50\n",
            "469/469 [==============================] - 9s 19ms/step - loss: 0.0381 - accuracy: 0.9883\n",
            "Epoch 31/50\n",
            "469/469 [==============================] - 9s 19ms/step - loss: 0.0368 - accuracy: 0.9889\n",
            "Epoch 32/50\n",
            "469/469 [==============================] - 9s 19ms/step - loss: 0.0353 - accuracy: 0.9890\n",
            "Epoch 33/50\n",
            "469/469 [==============================] - 9s 19ms/step - loss: 0.0345 - accuracy: 0.9894\n",
            "Epoch 34/50\n",
            "469/469 [==============================] - 9s 19ms/step - loss: 0.0344 - accuracy: 0.9893\n",
            "Epoch 35/50\n",
            "469/469 [==============================] - 9s 19ms/step - loss: 0.0325 - accuracy: 0.9901\n",
            "Epoch 36/50\n",
            "469/469 [==============================] - 9s 19ms/step - loss: 0.0318 - accuracy: 0.9903\n",
            "Epoch 37/50\n",
            "469/469 [==============================] - 9s 19ms/step - loss: 0.0312 - accuracy: 0.9901\n",
            "Epoch 38/50\n",
            "469/469 [==============================] - 9s 19ms/step - loss: 0.0301 - accuracy: 0.9907\n",
            "Epoch 39/50\n",
            "469/469 [==============================] - 9s 18ms/step - loss: 0.0288 - accuracy: 0.9906\n",
            "Epoch 40/50\n",
            "469/469 [==============================] - 9s 19ms/step - loss: 0.0288 - accuracy: 0.9912\n",
            "Epoch 41/50\n",
            "469/469 [==============================] - 9s 18ms/step - loss: 0.0279 - accuracy: 0.9915\n",
            "Epoch 42/50\n",
            "469/469 [==============================] - 9s 19ms/step - loss: 0.0266 - accuracy: 0.9917\n",
            "Epoch 43/50\n",
            "469/469 [==============================] - 9s 19ms/step - loss: 0.0257 - accuracy: 0.9921\n",
            "Epoch 44/50\n",
            "469/469 [==============================] - 9s 19ms/step - loss: 0.0250 - accuracy: 0.9926\n",
            "Epoch 45/50\n",
            "469/469 [==============================] - 9s 18ms/step - loss: 0.0245 - accuracy: 0.9923\n",
            "Epoch 46/50\n",
            "469/469 [==============================] - 8s 18ms/step - loss: 0.0244 - accuracy: 0.9926\n",
            "Epoch 47/50\n",
            "469/469 [==============================] - 9s 18ms/step - loss: 0.0237 - accuracy: 0.9927\n",
            "Epoch 48/50\n",
            "469/469 [==============================] - 9s 18ms/step - loss: 0.0232 - accuracy: 0.9927\n",
            "Epoch 49/50\n",
            "469/469 [==============================] - 9s 18ms/step - loss: 0.0226 - accuracy: 0.9930\n",
            "Epoch 50/50\n",
            "469/469 [==============================] - 9s 18ms/step - loss: 0.0218 - accuracy: 0.9931\n"
          ]
        }
      ],
      "source": [
        "history = model.fit(X_train, Y_train, epochs=nb_epoch, batch_size=batch_size, shuffle=True, verbose=1)"
      ]
    },
    {
      "cell_type": "code",
      "execution_count": null,
      "metadata": {
        "colab": {
          "background_save": true
        },
        "id": "jcCUU84U4RR4",
        "outputId": "6f85ce2a-417f-4d88-fe6f-c3f074884f04"
      },
      "outputs": [
        {
          "name": "stdout",
          "output_type": "stream",
          "text": [
            "79/79 [==============================] - 1s 8ms/step - loss: 0.0641 - accuracy: 0.9826\n",
            "Summary: Loss over the test dataset: 0.06, Accuracy: 0.98\n"
          ]
        }
      ],
      "source": [
        "evaluation = model.evaluate(X_test, Y_test, batch_size=batch_size, verbose=1)\n",
        "print('Summary: Loss over the test dataset: %.2f, Accuracy: %.2f' % (evaluation[0], evaluation[1]))"
      ]
    }
  ],
  "metadata": {
    "colab": {
      "name": "RNN_MNIST.ipynb",
      "provenance": [],
      "authorship_tag": "ABX9TyOGMlfvO2rUe0SIxwsAi31u",
      "include_colab_link": true
    },
    "kernelspec": {
      "display_name": "Python 3",
      "name": "python3"
    },
    "language_info": {
      "name": "python"
    }
  },
  "nbformat": 4,
  "nbformat_minor": 0
}