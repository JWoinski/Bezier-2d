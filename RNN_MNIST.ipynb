{
  "cells": [
    {
      "cell_type": "markdown",
      "metadata": {
        "id": "view-in-github",
        "colab_type": "text"
      },
      "source": [
        "<a href=\"https://colab.research.google.com/github/JWoinski/PracaDyp/blob/main/RNN_MNIST.ipynb\" target=\"_parent\"><img src=\"https://colab.research.google.com/assets/colab-badge.svg\" alt=\"Open In Colab\"/></a>"
      ]
    },
    {
      "cell_type": "code",
      "source": [
        "from __future__ import absolute_import\n",
        "from __future__ import division\n",
        "from __future__ import print_function\n",
        "\n",
        "import numpy as np\n",
        "from tensorflow.keras.models import Sequential\n",
        "from tensorflow.keras.layers import Dense, Activation, SimpleRNN\n",
        "from tensorflow.keras.utils import to_categorical, plot_model\n",
        "from tensorflow.keras.datasets import mnist\n",
        "\n",
        "# zaladowanie bazy danych fashion_mnist\n",
        "(x_train, y_train), (x_test, y_test) = mnist.load_data()\n",
        "\n",
        "# policzenie liczby label'i\n",
        "num_labels = len(np.unique(y_train))\n",
        "\n",
        "# konwersja wektora \"one-hot\"\n",
        "y_train = to_categorical(y_train)\n",
        "y_test = to_categorical(y_test)\n",
        "\n",
        "#wymiary obrazu wejsciowe\n",
        "image_size = x_train.shape[1]\n",
        "x_train = np.reshape(x_train,[-1, image_size, image_size])\n",
        "x_test = np.reshape(x_test,[-1, image_size, image_size])\n",
        "#normalizacja\n",
        "x_train = x_train.astype('float32') / 255\n",
        "x_test = x_test.astype('float32') / 255\n",
        "\n",
        "#konfiguracja sieci\n",
        "input_shape = (image_size, image_size)\n",
        "batch_size = 128\n",
        "units = 256\n",
        "dropout = 0.2\n",
        "\n",
        "# model sieci rekurencyjnej\n",
        "model = Sequential()\n",
        "model.add(SimpleRNN(units=units,\n",
        "                    dropout=dropout,\n",
        "                    input_shape=input_shape))\n",
        "model.add(Dense(num_labels))\n",
        "model.add(Activation('softmax'))\n",
        "model.summary()\n",
        "\n",
        "# pip install pydot\n",
        "# plot_model(model, to_file='rnn-mnist.png', show_shapes=True)\n",
        "\n",
        "model.compile(loss='categorical_crossentropy',\n",
        "              optimizer='sgd',\n",
        "              metrics=['accuracy'])\n",
        "# train the network\n",
        "model.fit(x_train, y_train, epochs=20, batch_size=batch_size)\n",
        "\n",
        "_, acc = model.evaluate(x_test,\n",
        "                        y_test,\n",
        "                        batch_size=batch_size,\n",
        "                        verbose=0)\n",
        "print(\"\\nTest accuracy: %.1f%%\" % (100.0 * acc))"
      ],
      "metadata": {
        "id": "R9IQTIDQBRoM",
        "outputId": "6ef868b8-7ed2-48ba-e316-a49c249ca731",
        "colab": {
          "base_uri": "https://localhost:8080/"
        }
      },
      "execution_count": 2,
      "outputs": [
        {
          "output_type": "stream",
          "name": "stdout",
          "text": [
            "Downloading data from https://storage.googleapis.com/tensorflow/tf-keras-datasets/mnist.npz\n",
            "11493376/11490434 [==============================] - 0s 0us/step\n",
            "11501568/11490434 [==============================] - 0s 0us/step\n",
            "Model: \"sequential\"\n",
            "_________________________________________________________________\n",
            " Layer (type)                Output Shape              Param #   \n",
            "=================================================================\n",
            " simple_rnn (SimpleRNN)      (None, 256)               72960     \n",
            "                                                                 \n",
            " dense (Dense)               (None, 10)                2570      \n",
            "                                                                 \n",
            " activation (Activation)     (None, 10)                0         \n",
            "                                                                 \n",
            "=================================================================\n",
            "Total params: 75,530\n",
            "Trainable params: 75,530\n",
            "Non-trainable params: 0\n",
            "_________________________________________________________________\n",
            "Epoch 1/20\n",
            "469/469 [==============================] - 33s 68ms/step - loss: 0.7538 - accuracy: 0.7844\n",
            "Epoch 2/20\n",
            "469/469 [==============================] - 32s 67ms/step - loss: 0.3321 - accuracy: 0.9030\n",
            "Epoch 3/20\n",
            "469/469 [==============================] - 31s 67ms/step - loss: 0.2447 - accuracy: 0.9276\n",
            "Epoch 4/20\n",
            "469/469 [==============================] - 32s 68ms/step - loss: 0.2041 - accuracy: 0.9400\n",
            "Epoch 5/20\n",
            "469/469 [==============================] - 35s 76ms/step - loss: 0.1773 - accuracy: 0.9466\n",
            "Epoch 6/20\n",
            "469/469 [==============================] - 31s 66ms/step - loss: 0.1579 - accuracy: 0.9524\n",
            "Epoch 7/20\n",
            "469/469 [==============================] - 31s 66ms/step - loss: 0.1452 - accuracy: 0.9567\n",
            "Epoch 8/20\n",
            "469/469 [==============================] - 30s 65ms/step - loss: 0.1308 - accuracy: 0.9605\n",
            "Epoch 9/20\n",
            "469/469 [==============================] - 32s 68ms/step - loss: 0.1214 - accuracy: 0.9632\n",
            "Epoch 10/20\n",
            "469/469 [==============================] - 33s 70ms/step - loss: 0.1139 - accuracy: 0.9652\n",
            "Epoch 11/20\n",
            "469/469 [==============================] - 31s 67ms/step - loss: 0.1100 - accuracy: 0.9660\n",
            "Epoch 12/20\n",
            "469/469 [==============================] - 32s 68ms/step - loss: 0.1049 - accuracy: 0.9679\n",
            "Epoch 13/20\n",
            "469/469 [==============================] - 30s 65ms/step - loss: 0.0972 - accuracy: 0.9706\n",
            "Epoch 14/20\n",
            "469/469 [==============================] - 31s 66ms/step - loss: 0.0937 - accuracy: 0.9710\n",
            "Epoch 15/20\n",
            "469/469 [==============================] - 30s 64ms/step - loss: 0.0882 - accuracy: 0.9731\n",
            "Epoch 16/20\n",
            "469/469 [==============================] - 32s 68ms/step - loss: 0.0857 - accuracy: 0.9744\n",
            "Epoch 17/20\n",
            "469/469 [==============================] - 30s 64ms/step - loss: 0.0810 - accuracy: 0.9751\n",
            "Epoch 18/20\n",
            "469/469 [==============================] - 30s 64ms/step - loss: 0.0806 - accuracy: 0.9750\n",
            "Epoch 19/20\n",
            "469/469 [==============================] - 30s 64ms/step - loss: 0.0757 - accuracy: 0.9768\n",
            "Epoch 20/20\n",
            "469/469 [==============================] - 30s 64ms/step - loss: 0.0746 - accuracy: 0.9766\n",
            "\n",
            "Test accuracy: 97.9%\n"
          ]
        }
      ]
    }
  ],
  "metadata": {
    "colab": {
      "name": "RNN_MNIST.ipynb",
      "provenance": [],
      "authorship_tag": "ABX9TyNJfOlEDW0zotK6GHnwzHw/",
      "include_colab_link": true
    },
    "kernelspec": {
      "display_name": "Python 3",
      "name": "python3"
    },
    "language_info": {
      "name": "python"
    }
  },
  "nbformat": 4,
  "nbformat_minor": 0
}