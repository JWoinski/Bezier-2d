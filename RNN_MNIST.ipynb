{
  "cells": [
    {
      "cell_type": "markdown",
      "metadata": {
        "id": "view-in-github",
        "colab_type": "text"
      },
      "source": [
        "<a href=\"https://colab.research.google.com/github/JWoinski/PracaDyp/blob/main/RNN_MNIST.ipynb\" target=\"_parent\"><img src=\"https://colab.research.google.com/assets/colab-badge.svg\" alt=\"Open In Colab\"/></a>"
      ]
    },
    {
      "cell_type": "code",
      "execution_count": 4,
      "metadata": {
        "id": "iqgExeqdvQP7"
      },
      "outputs": [],
      "source": [
        "from keras.models import Sequential\n",
        "from keras.layers import LSTM, Dense\n",
        "from keras.datasets import mnist\n",
        "from keras.utils import np_utils\n",
        "from keras import initializers\n",
        "\n",
        "def init_weights(shape, name=None):\n",
        "    return initializations.normal(shape, scale=0.01, name=name)"
      ]
    },
    {
      "cell_type": "code",
      "execution_count": 5,
      "metadata": {
        "id": "muZIRMfbytet"
      },
      "outputs": [],
      "source": [
        "batch_size = 128\n",
        "nb_epoch = 50\n",
        "\n",
        "#Parametry dla bazy MNIST\n",
        "img_rows, img_cols = 28, 28\n",
        "nb_classes = 10\n",
        "\n",
        "# parametry dla lstm\n",
        "nb_lstm_outputs = 30\n",
        "nb_time_steps = img_rows\n",
        "dim_input_vector = img_cols"
      ]
    },
    {
      "cell_type": "code",
      "execution_count": 6,
      "metadata": {
        "colab": {
          "base_uri": "https://localhost:8080/"
        },
        "id": "gfbWuQwu0EZn",
        "outputId": "70cd1598-fd7d-41e3-e19c-90ac36cc69e2"
      },
      "outputs": [
        {
          "output_type": "stream",
          "name": "stdout",
          "text": [
            "Downloading data from https://storage.googleapis.com/tensorflow/tf-keras-datasets/mnist.npz\n",
            "11493376/11490434 [==============================] - 0s 0us/step\n",
            "11501568/11490434 [==============================] - 0s 0us/step\n",
            "X_train original shape: (60000, 28, 28)\n",
            "X_train shape: (60000, 28, 28)\n",
            "60000 train samples\n",
            "10000 test samples\n"
          ]
        }
      ],
      "source": [
        "(X_train, y_train), (X_test, y_test) = mnist.load_data()\n",
        "print('X_train original shape:', X_train.shape)\n",
        "input_shape = (nb_time_steps, dim_input_vector)\n",
        "\n",
        "X_train = X_train.astype('float32') / 255.\n",
        "X_test = X_test.astype('float32') / 255.\n",
        "Y_train = np_utils.to_categorical(y_train, nb_classes)\n",
        "Y_test = np_utils.to_categorical(y_test, nb_classes)\n",
        "\n",
        "print('X_train shape:', X_train.shape)\n",
        "print(X_train.shape[0], 'train samples')\n",
        "print(X_test.shape[0], 'test samples')"
      ]
    },
    {
      "cell_type": "code",
      "execution_count": 7,
      "metadata": {
        "colab": {
          "base_uri": "https://localhost:8080/"
        },
        "id": "y5mY0fO51Txw",
        "outputId": "f18db172-9f17-4500-9deb-b7e13d63b628"
      },
      "outputs": [
        {
          "output_type": "stream",
          "name": "stdout",
          "text": [
            "Model: \"sequential\"\n",
            "_________________________________________________________________\n",
            " Layer (type)                Output Shape              Param #   \n",
            "=================================================================\n",
            " lstm (LSTM)                 (None, 30)                7080      \n",
            "                                                                 \n",
            " dense (Dense)               (None, 10)                310       \n",
            "                                                                 \n",
            "=================================================================\n",
            "Total params: 7,390\n",
            "Trainable params: 7,390\n",
            "Non-trainable params: 0\n",
            "_________________________________________________________________\n"
          ]
        }
      ],
      "source": [
        "model = Sequential()\n",
        "model.add(LSTM(nb_lstm_outputs, input_shape=input_shape))\n",
        "model.add(Dense(nb_classes, activation='softmax'))\n",
        "model.compile(optimizer='rmsprop', loss='categorical_crossentropy', metrics=['accuracy'])\n",
        "model.summary()"
      ]
    },
    {
      "cell_type": "code",
      "execution_count": 8,
      "metadata": {
        "colab": {
          "base_uri": "https://localhost:8080/"
        },
        "id": "1IwB1IkB4RH5",
        "outputId": "1fd571df-55b2-4909-ad86-fad27fbcb342"
      },
      "outputs": [
        {
          "metadata": {
            "tags": null
          },
          "name": "stdout",
          "output_type": "stream",
          "text": [
            "Epoch 1/50\n",
            "469/469 [==============================] - 12s 17ms/step - loss: 1.1278 - accuracy: 0.6448\n",
            "Epoch 2/50\n",
            "469/469 [==============================] - 7s 14ms/step - loss: 0.4332 - accuracy: 0.8719\n",
            "Epoch 3/50\n",
            "469/469 [==============================] - 7s 14ms/step - loss: 0.2836 - accuracy: 0.9161\n",
            "Epoch 4/50\n",
            "469/469 [==============================] - 7s 14ms/step - loss: 0.2185 - accuracy: 0.9360\n",
            "Epoch 5/50\n",
            "469/469 [==============================] - 7s 14ms/step - loss: 0.1814 - accuracy: 0.9469\n",
            "Epoch 6/50\n",
            "469/469 [==============================] - 7s 14ms/step - loss: 0.1570 - accuracy: 0.9533\n",
            "Epoch 7/50\n",
            "469/469 [==============================] - 7s 14ms/step - loss: 0.1387 - accuracy: 0.9596\n",
            "Epoch 8/50\n",
            "469/469 [==============================] - 7s 14ms/step - loss: 0.1247 - accuracy: 0.9635\n",
            "Epoch 9/50\n",
            "469/469 [==============================] - 7s 14ms/step - loss: 0.1138 - accuracy: 0.9661\n",
            "Epoch 10/50\n",
            "469/469 [==============================] - 7s 14ms/step - loss: 0.1045 - accuracy: 0.9687\n",
            "Epoch 11/50\n",
            "469/469 [==============================] - 7s 14ms/step - loss: 0.0958 - accuracy: 0.9707\n",
            "Epoch 12/50\n",
            "469/469 [==============================] - 7s 15ms/step - loss: 0.0904 - accuracy: 0.9719\n",
            "Epoch 13/50\n",
            "469/469 [==============================] - 7s 14ms/step - loss: 0.0838 - accuracy: 0.9747\n",
            "Epoch 14/50\n",
            "469/469 [==============================] - 7s 15ms/step - loss: 0.0791 - accuracy: 0.9761\n",
            "Epoch 15/50\n",
            "469/469 [==============================] - 7s 15ms/step - loss: 0.0746 - accuracy: 0.9774\n",
            "Epoch 16/50\n",
            "469/469 [==============================] - 7s 15ms/step - loss: 0.0707 - accuracy: 0.9785\n",
            "Epoch 17/50\n",
            "469/469 [==============================] - 7s 14ms/step - loss: 0.0670 - accuracy: 0.9796\n",
            "Epoch 18/50\n",
            "469/469 [==============================] - 7s 15ms/step - loss: 0.0643 - accuracy: 0.9807\n",
            "Epoch 19/50\n",
            "469/469 [==============================] - 7s 15ms/step - loss: 0.0604 - accuracy: 0.9815\n",
            "Epoch 20/50\n",
            "469/469 [==============================] - 7s 15ms/step - loss: 0.0585 - accuracy: 0.9816\n",
            "Epoch 21/50\n",
            "469/469 [==============================] - 7s 14ms/step - loss: 0.0555 - accuracy: 0.9831\n",
            "Epoch 22/50\n",
            "469/469 [==============================] - 7s 15ms/step - loss: 0.0535 - accuracy: 0.9834\n",
            "Epoch 23/50\n",
            "469/469 [==============================] - 7s 15ms/step - loss: 0.0514 - accuracy: 0.9841\n",
            "Epoch 24/50\n",
            "469/469 [==============================] - 7s 14ms/step - loss: 0.0493 - accuracy: 0.9847\n",
            "Epoch 25/50\n",
            "469/469 [==============================] - 7s 15ms/step - loss: 0.0472 - accuracy: 0.9853\n",
            "Epoch 26/50\n",
            "469/469 [==============================] - 7s 15ms/step - loss: 0.0457 - accuracy: 0.9859\n",
            "Epoch 27/50\n",
            "469/469 [==============================] - 7s 14ms/step - loss: 0.0442 - accuracy: 0.9866\n",
            "Epoch 28/50\n",
            "469/469 [==============================] - 7s 15ms/step - loss: 0.0421 - accuracy: 0.9875\n",
            "Epoch 29/50\n",
            "469/469 [==============================] - 7s 15ms/step - loss: 0.0412 - accuracy: 0.9876\n",
            "Epoch 30/50\n",
            "469/469 [==============================] - 6s 14ms/step - loss: 0.0391 - accuracy: 0.9882\n",
            "Epoch 31/50\n",
            "469/469 [==============================] - 6s 14ms/step - loss: 0.0382 - accuracy: 0.9882\n",
            "Epoch 32/50\n",
            "469/469 [==============================] - 6s 14ms/step - loss: 0.0371 - accuracy: 0.9885\n",
            "Epoch 33/50\n",
            "469/469 [==============================] - 6s 14ms/step - loss: 0.0355 - accuracy: 0.9892\n",
            "Epoch 34/50\n",
            "469/469 [==============================] - 6s 14ms/step - loss: 0.0340 - accuracy: 0.9896\n",
            "Epoch 35/50\n",
            "469/469 [==============================] - 6s 13ms/step - loss: 0.0335 - accuracy: 0.9895\n",
            "Epoch 36/50\n",
            "469/469 [==============================] - 6s 14ms/step - loss: 0.0321 - accuracy: 0.9901\n",
            "Epoch 37/50\n",
            "469/469 [==============================] - 7s 14ms/step - loss: 0.0316 - accuracy: 0.9904\n",
            "Epoch 38/50\n",
            "469/469 [==============================] - 7s 14ms/step - loss: 0.0311 - accuracy: 0.9906\n",
            "Epoch 39/50\n",
            "469/469 [==============================] - 7s 14ms/step - loss: 0.0301 - accuracy: 0.9912\n",
            "Epoch 40/50\n",
            "469/469 [==============================] - 7s 14ms/step - loss: 0.0290 - accuracy: 0.9910\n",
            "Epoch 41/50\n",
            "469/469 [==============================] - 7s 14ms/step - loss: 0.0279 - accuracy: 0.9913\n",
            "Epoch 42/50\n",
            "469/469 [==============================] - 7s 14ms/step - loss: 0.0272 - accuracy: 0.9913\n",
            "Epoch 43/50\n",
            "469/469 [==============================] - 7s 14ms/step - loss: 0.0265 - accuracy: 0.9917\n",
            "Epoch 44/50\n",
            "469/469 [==============================] - 7s 14ms/step - loss: 0.0262 - accuracy: 0.9921\n",
            "Epoch 45/50\n",
            "469/469 [==============================] - 7s 15ms/step - loss: 0.0254 - accuracy: 0.9921\n",
            "Epoch 46/50\n",
            "469/469 [==============================] - 7s 14ms/step - loss: 0.0244 - accuracy: 0.9928\n",
            "Epoch 47/50\n",
            "469/469 [==============================] - 7s 14ms/step - loss: 0.0245 - accuracy: 0.9924\n",
            "Epoch 48/50\n",
            "469/469 [==============================] - 7s 14ms/step - loss: 0.0233 - accuracy: 0.9931\n",
            "Epoch 49/50\n",
            "469/469 [==============================] - 7s 14ms/step - loss: 0.0226 - accuracy: 0.9932\n",
            "Epoch 50/50\n",
            "469/469 [==============================] - 7s 14ms/step - loss: 0.0220 - accuracy: 0.9930\n"
          ]
        }
      ],
      "source": [
        "history = model.fit(X_train, Y_train, epochs=nb_epoch, batch_size=batch_size, shuffle=True, verbose=1)"
      ]
    },
    {
      "cell_type": "code",
      "execution_count": 9,
      "metadata": {
        "colab": {
          "base_uri": "https://localhost:8080/"
        },
        "id": "jcCUU84U4RR4",
        "outputId": "0a9c3c61-2115-430d-bddc-936858589494"
      },
      "outputs": [
        {
          "metadata": {
            "tags": null
          },
          "name": "stdout",
          "output_type": "stream",
          "text": [
            "79/79 [==============================] - 1s 6ms/step - loss: 0.0695 - accuracy: 0.9821\n",
            "Loss: 0.07, Accuracy: 0.98\n"
          ]
        }
      ],
      "source": [
        "evaluation = model.evaluate(X_test, Y_test, batch_size=batch_size, verbose=1)\n",
        "print('Loss: %.2f, Accuracy: %.2f' % (evaluation[0], evaluation[1]))"
      ]
    }
  ],
  "metadata": {
    "colab": {
      "name": "RNN_MNIST.ipynb",
      "provenance": [],
      "authorship_tag": "ABX9TyPHZ4gpKgdb4CmozDD3v+Kn",
      "include_colab_link": true
    },
    "kernelspec": {
      "display_name": "Python 3",
      "name": "python3"
    },
    "language_info": {
      "name": "python"
    }
  },
  "nbformat": 4,
  "nbformat_minor": 0
}